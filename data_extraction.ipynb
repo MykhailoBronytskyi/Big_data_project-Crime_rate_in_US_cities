{
  "nbformat": 4,
  "nbformat_minor": 0,
  "metadata": {
    "colab": {
      "provenance": []
    },
    "kernelspec": {
      "name": "python3",
      "display_name": "Python 3"
    },
    "language_info": {
      "name": "python"
    }
  },
  "cells": [
    {
      "cell_type": "code",
      "execution_count": null,
      "metadata": {
        "colab": {
          "base_uri": "https://localhost:8080/"
        },
        "id": "vtIY5x3aG4Ob",
        "outputId": "6dba30ee-47c1-4061-fcdc-0f57405bf5f4"
      },
      "outputs": [
        {
          "output_type": "stream",
          "name": "stdout",
          "text": [
            "Requirement already satisfied: pyspark in /usr/local/lib/python3.10/dist-packages (3.5.3)\n",
            "Requirement already satisfied: py4j==0.10.9.7 in /usr/local/lib/python3.10/dist-packages (from pyspark) (0.10.9.7)\n"
          ]
        }
      ],
      "source": [
        "!pip install pyspark"
      ]
    },
    {
      "cell_type": "code",
      "source": [
        "from pyspark.sql import SparkSession\n",
        "from pyspark.sql.functions import *\n",
        "from pyspark.sql.types import StringType\n",
        "from google.colab import drive\n",
        "drive.mount('/content/drive')\n",
        "spark = SparkSession.builder.master(\"local[*]\").appName(\"CrimeData\").getOrCreate()"
      ],
      "metadata": {
        "colab": {
          "base_uri": "https://localhost:8080/"
        },
        "id": "1URspERaJRzD",
        "outputId": "45ddcb0d-838b-4eea-caca-3371bd093149"
      },
      "execution_count": null,
      "outputs": [
        {
          "output_type": "stream",
          "name": "stdout",
          "text": [
            "Drive already mounted at /content/drive; to attempt to forcibly remount, call drive.mount(\"/content/drive\", force_remount=True).\n"
          ]
        }
      ]
    },
    {
      "cell_type": "markdown",
      "source": [
        "Завантаження даних"
      ],
      "metadata": {
        "id": "iVfuFs1nNb0A"
      }
    },
    {
      "cell_type": "code",
      "source": [
        "detroit_file = \"/content/drive/MyDrive/курс 4.1/Big data/Project/data/RMS_Crime_Incidents.csv\"\n",
        "la_file = \"/content/drive/MyDrive/курс 4.1/Big data/Project/data/Crime_Data_from_2020_to_Present_20241130.csv\"\n",
        "\n",
        "detroit_df = spark.read.csv(detroit_file, header=True, inferSchema=True)\n",
        "la_df = spark.read.csv(la_file, header=True, inferSchema=True)"
      ],
      "metadata": {
        "id": "B0pVeiF7JU0J",
        "colab": {
          "base_uri": "https://localhost:8080/",
          "height": 356
        },
        "outputId": "3f44d07f-133e-4947-9a7f-bdae05096b98"
      },
      "execution_count": null,
      "outputs": [
        {
          "output_type": "error",
          "ename": "KeyboardInterrupt",
          "evalue": "",
          "traceback": [
            "\u001b[0;31m---------------------------------------------------------------------------\u001b[0m",
            "\u001b[0;31mKeyboardInterrupt\u001b[0m                         Traceback (most recent call last)",
            "\u001b[0;32m<ipython-input-5-fa5628dc5006>\u001b[0m in \u001b[0;36m<cell line: 1>\u001b[0;34m()\u001b[0m\n\u001b[0;32m----> 1\u001b[0;31m \u001b[0mspark\u001b[0m \u001b[0;34m=\u001b[0m \u001b[0mSparkSession\u001b[0m\u001b[0;34m.\u001b[0m\u001b[0mbuilder\u001b[0m\u001b[0;34m.\u001b[0m\u001b[0mmaster\u001b[0m\u001b[0;34m(\u001b[0m\u001b[0;34m\"local[*]\"\u001b[0m\u001b[0;34m)\u001b[0m\u001b[0;34m.\u001b[0m\u001b[0mappName\u001b[0m\u001b[0;34m(\u001b[0m\u001b[0;34m\"CrimeData\"\u001b[0m\u001b[0;34m)\u001b[0m\u001b[0;34m.\u001b[0m\u001b[0mgetOrCreate\u001b[0m\u001b[0;34m(\u001b[0m\u001b[0;34m)\u001b[0m\u001b[0;34m\u001b[0m\u001b[0;34m\u001b[0m\u001b[0m\n\u001b[0m\u001b[1;32m      2\u001b[0m \u001b[0;34m\u001b[0m\u001b[0m\n\u001b[1;32m      3\u001b[0m \u001b[0mdetroit_file\u001b[0m \u001b[0;34m=\u001b[0m \u001b[0;34m\"/content/drive/MyDrive/курс 4.1/Big data/Project/data/RMS_Crime_Incidents.csv\"\u001b[0m\u001b[0;34m\u001b[0m\u001b[0;34m\u001b[0m\u001b[0m\n\u001b[1;32m      4\u001b[0m \u001b[0mla_file\u001b[0m \u001b[0;34m=\u001b[0m \u001b[0;34m\"/content/drive/MyDrive/курс 4.1/Big data/Project/data/Crime_Data_from_2020_to_Present_20241130.csv\"\u001b[0m\u001b[0;34m\u001b[0m\u001b[0;34m\u001b[0m\u001b[0m\n\u001b[1;32m      5\u001b[0m \u001b[0;34m\u001b[0m\u001b[0m\n",
            "\u001b[0;32m/usr/local/lib/python3.10/dist-packages/pyspark/sql/session.py\u001b[0m in \u001b[0;36mgetOrCreate\u001b[0;34m(self)\u001b[0m\n\u001b[1;32m    495\u001b[0m                         \u001b[0msparkConf\u001b[0m\u001b[0;34m.\u001b[0m\u001b[0mset\u001b[0m\u001b[0;34m(\u001b[0m\u001b[0mkey\u001b[0m\u001b[0;34m,\u001b[0m \u001b[0mvalue\u001b[0m\u001b[0;34m)\u001b[0m\u001b[0;34m\u001b[0m\u001b[0;34m\u001b[0m\u001b[0m\n\u001b[1;32m    496\u001b[0m                     \u001b[0;31m# This SparkContext may be an existing one.\u001b[0m\u001b[0;34m\u001b[0m\u001b[0;34m\u001b[0m\u001b[0m\n\u001b[0;32m--> 497\u001b[0;31m                     \u001b[0msc\u001b[0m \u001b[0;34m=\u001b[0m \u001b[0mSparkContext\u001b[0m\u001b[0;34m.\u001b[0m\u001b[0mgetOrCreate\u001b[0m\u001b[0;34m(\u001b[0m\u001b[0msparkConf\u001b[0m\u001b[0;34m)\u001b[0m\u001b[0;34m\u001b[0m\u001b[0;34m\u001b[0m\u001b[0m\n\u001b[0m\u001b[1;32m    498\u001b[0m                     \u001b[0;31m# Do not update `SparkConf` for existing `SparkContext`, as it's shared\u001b[0m\u001b[0;34m\u001b[0m\u001b[0;34m\u001b[0m\u001b[0m\n\u001b[1;32m    499\u001b[0m                     \u001b[0;31m# by all sessions.\u001b[0m\u001b[0;34m\u001b[0m\u001b[0;34m\u001b[0m\u001b[0m\n",
            "\u001b[0;32m/usr/local/lib/python3.10/dist-packages/pyspark/context.py\u001b[0m in \u001b[0;36mgetOrCreate\u001b[0;34m(cls, conf)\u001b[0m\n\u001b[1;32m    513\u001b[0m         \u001b[0;32mwith\u001b[0m \u001b[0mSparkContext\u001b[0m\u001b[0;34m.\u001b[0m\u001b[0m_lock\u001b[0m\u001b[0;34m:\u001b[0m\u001b[0;34m\u001b[0m\u001b[0;34m\u001b[0m\u001b[0m\n\u001b[1;32m    514\u001b[0m             \u001b[0;32mif\u001b[0m \u001b[0mSparkContext\u001b[0m\u001b[0;34m.\u001b[0m\u001b[0m_active_spark_context\u001b[0m \u001b[0;32mis\u001b[0m \u001b[0;32mNone\u001b[0m\u001b[0;34m:\u001b[0m\u001b[0;34m\u001b[0m\u001b[0;34m\u001b[0m\u001b[0m\n\u001b[0;32m--> 515\u001b[0;31m                 \u001b[0mSparkContext\u001b[0m\u001b[0;34m(\u001b[0m\u001b[0mconf\u001b[0m\u001b[0;34m=\u001b[0m\u001b[0mconf\u001b[0m \u001b[0;32mor\u001b[0m \u001b[0mSparkConf\u001b[0m\u001b[0;34m(\u001b[0m\u001b[0;34m)\u001b[0m\u001b[0;34m)\u001b[0m\u001b[0;34m\u001b[0m\u001b[0;34m\u001b[0m\u001b[0m\n\u001b[0m\u001b[1;32m    516\u001b[0m             \u001b[0;32massert\u001b[0m \u001b[0mSparkContext\u001b[0m\u001b[0;34m.\u001b[0m\u001b[0m_active_spark_context\u001b[0m \u001b[0;32mis\u001b[0m \u001b[0;32mnot\u001b[0m \u001b[0;32mNone\u001b[0m\u001b[0;34m\u001b[0m\u001b[0;34m\u001b[0m\u001b[0m\n\u001b[1;32m    517\u001b[0m             \u001b[0;32mreturn\u001b[0m \u001b[0mSparkContext\u001b[0m\u001b[0;34m.\u001b[0m\u001b[0m_active_spark_context\u001b[0m\u001b[0;34m\u001b[0m\u001b[0;34m\u001b[0m\u001b[0m\n",
            "\u001b[0;32m/usr/local/lib/python3.10/dist-packages/pyspark/context.py\u001b[0m in \u001b[0;36m__init__\u001b[0;34m(self, master, appName, sparkHome, pyFiles, environment, batchSize, serializer, conf, gateway, jsc, profiler_cls, udf_profiler_cls, memory_profiler_cls)\u001b[0m\n\u001b[1;32m    199\u001b[0m             )\n\u001b[1;32m    200\u001b[0m \u001b[0;34m\u001b[0m\u001b[0m\n\u001b[0;32m--> 201\u001b[0;31m         \u001b[0mSparkContext\u001b[0m\u001b[0;34m.\u001b[0m\u001b[0m_ensure_initialized\u001b[0m\u001b[0;34m(\u001b[0m\u001b[0mself\u001b[0m\u001b[0;34m,\u001b[0m \u001b[0mgateway\u001b[0m\u001b[0;34m=\u001b[0m\u001b[0mgateway\u001b[0m\u001b[0;34m,\u001b[0m \u001b[0mconf\u001b[0m\u001b[0;34m=\u001b[0m\u001b[0mconf\u001b[0m\u001b[0;34m)\u001b[0m\u001b[0;34m\u001b[0m\u001b[0;34m\u001b[0m\u001b[0m\n\u001b[0m\u001b[1;32m    202\u001b[0m         \u001b[0;32mtry\u001b[0m\u001b[0;34m:\u001b[0m\u001b[0;34m\u001b[0m\u001b[0;34m\u001b[0m\u001b[0m\n\u001b[1;32m    203\u001b[0m             self._do_init(\n",
            "\u001b[0;32m/usr/local/lib/python3.10/dist-packages/pyspark/context.py\u001b[0m in \u001b[0;36m_ensure_initialized\u001b[0;34m(cls, instance, gateway, conf)\u001b[0m\n\u001b[1;32m    434\u001b[0m         \u001b[0;32mwith\u001b[0m \u001b[0mSparkContext\u001b[0m\u001b[0;34m.\u001b[0m\u001b[0m_lock\u001b[0m\u001b[0;34m:\u001b[0m\u001b[0;34m\u001b[0m\u001b[0;34m\u001b[0m\u001b[0m\n\u001b[1;32m    435\u001b[0m             \u001b[0;32mif\u001b[0m \u001b[0;32mnot\u001b[0m \u001b[0mSparkContext\u001b[0m\u001b[0;34m.\u001b[0m\u001b[0m_gateway\u001b[0m\u001b[0;34m:\u001b[0m\u001b[0;34m\u001b[0m\u001b[0;34m\u001b[0m\u001b[0m\n\u001b[0;32m--> 436\u001b[0;31m                 \u001b[0mSparkContext\u001b[0m\u001b[0;34m.\u001b[0m\u001b[0m_gateway\u001b[0m \u001b[0;34m=\u001b[0m \u001b[0mgateway\u001b[0m \u001b[0;32mor\u001b[0m \u001b[0mlaunch_gateway\u001b[0m\u001b[0;34m(\u001b[0m\u001b[0mconf\u001b[0m\u001b[0;34m)\u001b[0m\u001b[0;34m\u001b[0m\u001b[0;34m\u001b[0m\u001b[0m\n\u001b[0m\u001b[1;32m    437\u001b[0m                 \u001b[0mSparkContext\u001b[0m\u001b[0;34m.\u001b[0m\u001b[0m_jvm\u001b[0m \u001b[0;34m=\u001b[0m \u001b[0mSparkContext\u001b[0m\u001b[0;34m.\u001b[0m\u001b[0m_gateway\u001b[0m\u001b[0;34m.\u001b[0m\u001b[0mjvm\u001b[0m\u001b[0;34m\u001b[0m\u001b[0;34m\u001b[0m\u001b[0m\n\u001b[1;32m    438\u001b[0m \u001b[0;34m\u001b[0m\u001b[0m\n",
            "\u001b[0;32m/usr/local/lib/python3.10/dist-packages/pyspark/java_gateway.py\u001b[0m in \u001b[0;36mlaunch_gateway\u001b[0;34m(conf, popen_kwargs)\u001b[0m\n\u001b[1;32m    102\u001b[0m             \u001b[0;31m# Wait for the file to appear, or for the process to exit, whichever happens first.\u001b[0m\u001b[0;34m\u001b[0m\u001b[0;34m\u001b[0m\u001b[0m\n\u001b[1;32m    103\u001b[0m             \u001b[0;32mwhile\u001b[0m \u001b[0;32mnot\u001b[0m \u001b[0mproc\u001b[0m\u001b[0;34m.\u001b[0m\u001b[0mpoll\u001b[0m\u001b[0;34m(\u001b[0m\u001b[0;34m)\u001b[0m \u001b[0;32mand\u001b[0m \u001b[0;32mnot\u001b[0m \u001b[0mos\u001b[0m\u001b[0;34m.\u001b[0m\u001b[0mpath\u001b[0m\u001b[0;34m.\u001b[0m\u001b[0misfile\u001b[0m\u001b[0;34m(\u001b[0m\u001b[0mconn_info_file\u001b[0m\u001b[0;34m)\u001b[0m\u001b[0;34m:\u001b[0m\u001b[0;34m\u001b[0m\u001b[0;34m\u001b[0m\u001b[0m\n\u001b[0;32m--> 104\u001b[0;31m                 \u001b[0mtime\u001b[0m\u001b[0;34m.\u001b[0m\u001b[0msleep\u001b[0m\u001b[0;34m(\u001b[0m\u001b[0;36m0.1\u001b[0m\u001b[0;34m)\u001b[0m\u001b[0;34m\u001b[0m\u001b[0;34m\u001b[0m\u001b[0m\n\u001b[0m\u001b[1;32m    105\u001b[0m \u001b[0;34m\u001b[0m\u001b[0m\n\u001b[1;32m    106\u001b[0m             \u001b[0;32mif\u001b[0m \u001b[0;32mnot\u001b[0m \u001b[0mos\u001b[0m\u001b[0;34m.\u001b[0m\u001b[0mpath\u001b[0m\u001b[0;34m.\u001b[0m\u001b[0misfile\u001b[0m\u001b[0;34m(\u001b[0m\u001b[0mconn_info_file\u001b[0m\u001b[0;34m)\u001b[0m\u001b[0;34m:\u001b[0m\u001b[0;34m\u001b[0m\u001b[0;34m\u001b[0m\u001b[0m\n",
            "\u001b[0;31mKeyboardInterrupt\u001b[0m: "
          ]
        }
      ]
    },
    {
      "cell_type": "markdown",
      "source": [
        "Перевірка на проблеми"
      ],
      "metadata": {
        "id": "8ts8mPWqNemf"
      }
    },
    {
      "cell_type": "code",
      "source": [
        "# Функція для перевірки пропусків у всіх колонках\n",
        "def check_missing_values(df, name):\n",
        "    print(f\"Пропуски в {name}:\")\n",
        "    df.select([(df[col].isNull().alias(col)) for col in df.columns]).groupBy().sum().show()\n",
        "\n",
        "check_missing_values(detroit_df, \"Detroit\")\n",
        "check_missing_values(la_df, \"Los Angeles\")\n",
        "\n",
        "# Перевірка типів даних\n",
        "print(\"Типи даних Detroit:\")\n",
        "detroit_df.printSchema()\n",
        "\n",
        "print(\"\\nТипи даних Los Angeles:\")\n",
        "la_df.printSchema()\n"
      ],
      "metadata": {
        "colab": {
          "base_uri": "https://localhost:8080/"
        },
        "id": "PuZ5LFRdLntY",
        "outputId": "a6ffcf7f-cfc5-47af-faa1-2b59c7926808"
      },
      "execution_count": null,
      "outputs": [
        {
          "output_type": "stream",
          "name": "stdout",
          "text": [
            "Пропуски в Detroit:\n",
            "++\n",
            "||\n",
            "++\n",
            "||\n",
            "++\n",
            "\n",
            "Пропуски в Los Angeles:\n",
            "++\n",
            "||\n",
            "++\n",
            "||\n",
            "++\n",
            "\n",
            "Типи даних Detroit:\n",
            "root\n",
            " |-- X: double (nullable = true)\n",
            " |-- Y: double (nullable = true)\n",
            " |-- incident_entry_id: string (nullable = true)\n",
            " |-- nearest_intersection: string (nullable = true)\n",
            " |-- offense_category: string (nullable = true)\n",
            " |-- offense_description: string (nullable = true)\n",
            " |-- state_offense_code: integer (nullable = true)\n",
            " |-- arrest_charge: string (nullable = true)\n",
            " |-- charge_description: string (nullable = true)\n",
            " |-- incident_occurred_at: string (nullable = true)\n",
            " |-- incident_time: timestamp (nullable = true)\n",
            " |-- incident_day_of_week: integer (nullable = true)\n",
            " |-- incident_hour_of_day: integer (nullable = true)\n",
            " |-- incident_year: integer (nullable = true)\n",
            " |-- case_id: integer (nullable = true)\n",
            " |-- case_status: string (nullable = true)\n",
            " |-- case_status_updated_at: string (nullable = true)\n",
            " |-- updated_in_ibr_at: string (nullable = true)\n",
            " |-- updated_at: string (nullable = true)\n",
            " |-- crime_id: integer (nullable = true)\n",
            " |-- report_number: long (nullable = true)\n",
            " |-- scout_car_area: string (nullable = true)\n",
            " |-- police_precinct: string (nullable = true)\n",
            " |-- census_block_2020_geoid: long (nullable = true)\n",
            " |-- neighborhood: string (nullable = true)\n",
            " |-- council_district: integer (nullable = true)\n",
            " |-- zip_code: integer (nullable = true)\n",
            " |-- longitude: double (nullable = true)\n",
            " |-- latitude: double (nullable = true)\n",
            " |-- ESRI_OID: integer (nullable = true)\n",
            "\n",
            "\n",
            "Типи даних Los Angeles:\n",
            "root\n",
            " |-- DR_NO: integer (nullable = true)\n",
            " |-- Date Rptd: string (nullable = true)\n",
            " |-- DATE OCC: string (nullable = true)\n",
            " |-- TIME OCC: integer (nullable = true)\n",
            " |-- AREA: integer (nullable = true)\n",
            " |-- AREA NAME: string (nullable = true)\n",
            " |-- Rpt Dist No: integer (nullable = true)\n",
            " |-- Part 1-2: integer (nullable = true)\n",
            " |-- Crm Cd: integer (nullable = true)\n",
            " |-- Crm Cd Desc: string (nullable = true)\n",
            " |-- Mocodes: string (nullable = true)\n",
            " |-- Vict Age: integer (nullable = true)\n",
            " |-- Vict Sex: string (nullable = true)\n",
            " |-- Vict Descent: string (nullable = true)\n",
            " |-- Premis Cd: integer (nullable = true)\n",
            " |-- Premis Desc: string (nullable = true)\n",
            " |-- Weapon Used Cd: integer (nullable = true)\n",
            " |-- Weapon Desc: string (nullable = true)\n",
            " |-- Status: string (nullable = true)\n",
            " |-- Status Desc: string (nullable = true)\n",
            " |-- Crm Cd 1: integer (nullable = true)\n",
            " |-- Crm Cd 2: integer (nullable = true)\n",
            " |-- Crm Cd 3: integer (nullable = true)\n",
            " |-- Crm Cd 4: integer (nullable = true)\n",
            " |-- LOCATION: string (nullable = true)\n",
            " |-- Cross Street: string (nullable = true)\n",
            " |-- LAT: double (nullable = true)\n",
            " |-- LON: double (nullable = true)\n",
            "\n"
          ]
        }
      ]
    },
    {
      "cell_type": "markdown",
      "source": [
        "Нормалізація"
      ],
      "metadata": {
        "id": "Erp4rqg2I2g-"
      }
    },
    {
      "cell_type": "code",
      "source": [
        "detroit_df = detroit_df.withColumn(\"City\", lit(\"Detroit\"))\n",
        "la_df = la_df.withColumn(\"City\", lit(\"Los Angeles\"))"
      ],
      "metadata": {
        "id": "3iZvP7AaNiL3"
      },
      "execution_count": null,
      "outputs": []
    },
    {
      "cell_type": "code",
      "source": [
        "# Detroit\n",
        "detroit_normalized = detroit_df.select(\n",
        "    col(\"City\").alias(\"city\"),\n",
        "    date_format(to_date(col(\"incident_occurred_at\").substr(1, 10), \"yyyy/MM/dd\"), \"dd.MM.yyyy\").alias(\"date_occured\"),\n",
        "    date_format(col(\"incident_occurred_at\").substr(12, 5), \"HH:mm\").alias(\"time_occured\"),\n",
        "    lit('').alias(\"date_report\"),\n",
        "    lit('').alias(\"time_report\"),\n",
        "    col(\"offense_category\").alias(\"crime_category\"),\n",
        "    col(\"offense_description\").alias(\"crime_description\"),\n",
        "    col(\"latitude\"),\n",
        "    col(\"longitude\"),\n",
        "    col(\"nearest_intersection\").alias(\"address\"),\n",
        "    lit('').alias(\"Location_type\"),\n",
        "    when(col(\"case_status\").isin(\"INACTIVE\", \"ACTIVE\"), \"not finished\").otherwise(\"finished\").alias(\"Investigation_status\"),\n",
        "    lit('').alias(\"victim_age_group\"),\n",
        "    lit('').alias(\"victim_sex\"),\n",
        "    lit('').alias(\"victim_race\"),\n",
        "    concat_ws(\" \", col(\"City\"), col(\"police_precinct\")).alias(\"police_station\")\n",
        ")\n"
      ],
      "metadata": {
        "id": "EIewJL2kNrfG"
      },
      "execution_count": null,
      "outputs": []
    },
    {
      "cell_type": "code",
      "source": [
        "detroit_normalized.show(5)\n",
        "detroit_df.show(5)"
      ],
      "metadata": {
        "id": "0Iw08389x0xm",
        "colab": {
          "base_uri": "https://localhost:8080/"
        },
        "outputId": "f830c134-71cb-415b-c32f-a2085f827e90"
      },
      "execution_count": null,
      "outputs": [
        {
          "output_type": "stream",
          "name": "stdout",
          "text": [
            "+-------+------------+------------+-----------+-----------+------------------+--------------------+----------------+-----------------+--------------------+-------------+--------------------+----------------+----------+-----------+--------------+\n",
            "|   city|date_occured|time_occured|date_report|time_report|    crime_category|   crime_description|        latitude|        longitude|             address|Location_type|Investigation_status|victim_age_group|victim_sex|victim_race|police_station|\n",
            "+-------+------------+------------+-----------+-----------+------------------+--------------------+----------------+-----------------+--------------------+-------------+--------------------+----------------+----------+-----------+--------------+\n",
            "|Detroit|  25.10.2022|       20:00|           |           |    STOLEN VEHICLE| MOTOR VEHICLE THEFT|42.4382753656854|-83.0528961345903|Conley St & E Lan...|             |        not finished|                |          |           |    Detroit 11|\n",
            "|Detroit|  05.01.2018|       20:30|           |           |           ASSAULT|ASSAULT AND BATTE...|42.4097146962558|-83.1600079785568|Puritan St & Wyom...|             |        not finished|                |          |           |    Detroit 12|\n",
            "|Detroit|  11.06.2020|       18:05|           |           |DAMAGE TO PROPERTY|AGGRAVATED / FELO...|42.4278226753921|-83.0579337115637|      Stockton St & |             |        not finished|                |          |           |    Detroit 11|\n",
            "|Detroit|  11.06.2020|       18:05|           |           |AGGRAVATED ASSAULT|AGGRAVATED / FELO...|42.4278226753921|-83.0579337115637|      Stockton St & |             |        not finished|                |          |           |    Detroit 11|\n",
            "|Detroit|  24.11.2024|       07:52|           |           |          BURGLARY|BURGLARY - FORCED...|42.4388624860648|-83.0244236591765|E Lantz St & Van ...|             |        not finished|                |          |           |    Detroit 11|\n",
            "+-------+------------+------------+-----------+-----------+------------------+--------------------+----------------+-----------------+--------------------+-------------+--------------------+----------------+----------+-----------+--------------+\n",
            "only showing top 5 rows\n",
            "\n",
            "+-----------------+----------------+-----------------+--------------------+------------------+--------------------+------------------+-------------+--------------------+--------------------+-------------------+--------------------+--------------------+-------------+-------+-----------+----------------------+--------------------+--------------------+--------+-------------+--------------+---------------+-----------------------+--------------------+----------------+--------+-----------------+----------------+--------+-------+\n",
            "|                X|               Y|incident_entry_id|nearest_intersection|  offense_category| offense_description|state_offense_code|arrest_charge|  charge_description|incident_occurred_at|      incident_time|incident_day_of_week|incident_hour_of_day|incident_year|case_id|case_status|case_status_updated_at|   updated_in_ibr_at|          updated_at|crime_id|report_number|scout_car_area|police_precinct|census_block_2020_geoid|        neighborhood|council_district|zip_code|        longitude|        latitude|ESRI_OID|   City|\n",
            "+-----------------+----------------+-----------------+--------------------+------------------+--------------------+------------------+-------------+--------------------+--------------------+-------------------+--------------------+--------------------+-------------+-------+-----------+----------------------+--------------------+--------------------+--------+-------------+--------------+---------------+-----------------------+--------------------+----------------+--------+-----------------+----------------+--------+-------+\n",
            "|-83.0528961345903|42.4382753656854|      882086-2401|Conley St & E Lan...|    STOLEN VEHICLE| MOTOR VEHICLE THEFT|              2401|        24001| MOTOR VEHICLE THEFT|2022/10/25 20:00:...|2024-12-08 16:00:00|                   2|                  16|         2022| 825682|   INACTIVE|  2022/10/26 16:22:...|2023/02/09 19:09:...|2024/11/24 15:49:...| 3825682|   2210260081|          1103|             11|        261635066001003|             Farwell|               3|   48234|-83.0528961345903|42.4382753656854|       1|Detroit|\n",
            "|-83.1600079785568|42.4097146962558|      188715-1301|Puritan St & Wyom...|           ASSAULT|ASSAULT AND BATTE...|              1301|        13001|ASSAULT AND BATTE...|2018/01/05 20:30:...|2024-12-08 15:30:00|                   5|                  15|         2018| 185819|   INACTIVE|  2018/04/30 15:58:...|2018/05/01 14:19:...|2024/11/24 15:49:...| 3185819|   1803120241|          1210|             12|        261635361002016|Fitzgerald/Marygrove|               2|   48221|-83.1600079785568|42.4097146962558|       2|Detroit|\n",
            "|-83.0579337115637|42.4278226753921|      539809-2900|      Stockton St & |DAMAGE TO PROPERTY|AGGRAVATED / FELO...|              2900|        29000|  DAMAGE TO PROPERTY|2020/06/11 18:05:...|2024-12-08 14:05:00|                   4|                  14|         2020| 509642|   INACTIVE|  2020/09/27 15:14:...|2020/09/29 21:00:...|2024/11/24 15:49:...| 3509642|   2006110217|          1108|             11|        261635070002029|        Krainz Woods|               3|   48234|-83.0579337115637|42.4278226753921|       3|Detroit|\n",
            "|-83.0579337115637|42.4278226753921|      539704-1302|      Stockton St & |AGGRAVATED ASSAULT|AGGRAVATED / FELO...|              1302|        13002|AGGRAVATED / FELO...|2020/06/11 18:05:...|2024-12-08 14:05:00|                   4|                  14|         2020| 509642|   INACTIVE|  2020/09/27 15:14:...|2020/09/29 21:00:...|2024/11/24 15:49:...| 3509642|   2006110217|          1108|             11|        261635070002029|        Krainz Woods|               3|   48234|-83.0579337115637|42.4278226753921|       4|Detroit|\n",
            "|-83.0244236591765|42.4388624860648|     1213090-2201|E Lantz St & Van ...|          BURGLARY|BURGLARY - FORCED...|              2201|        22001|BURGLARY - FORCED...|2024/11/24 07:52:...|2024-12-08 02:52:00|                   7|                   2|         2024|1122706|     ACTIVE|  2024/11/24 08:15:...|                NULL|2024/11/24 15:46:...| 4122706|   2411240052|          1104|             11|        261635062001010|             Nortown|               3|   48234|-83.0244236591765|42.4388624860648|       5|Detroit|\n",
            "+-----------------+----------------+-----------------+--------------------+------------------+--------------------+------------------+-------------+--------------------+--------------------+-------------------+--------------------+--------------------+-------------+-------+-----------+----------------------+--------------------+--------------------+--------+-------------+--------------+---------------+-----------------------+--------------------+----------------+--------+-----------------+----------------+--------+-------+\n",
            "only showing top 5 rows\n",
            "\n"
          ]
        }
      ]
    },
    {
      "cell_type": "code",
      "source": [
        "#Прибираємо аномальні значення\n",
        "la_normalized = la_df.filter((col(\"Vict Age\") >= 0) & (col(\"Vict Age\") <= 120))\n"
      ],
      "metadata": {
        "id": "IzZ053T0tijq"
      },
      "execution_count": null,
      "outputs": []
    },
    {
      "cell_type": "code",
      "source": [
        "#LA\n",
        "la_normalized = la_normalized.select(\n",
        "    col(\"City\").alias(\"city\"),\n",
        "    date_format(to_timestamp(col(\"DATE OCC\"), \"MM/dd/yyyy hh:mm:ss a\"), \"dd.MM.yyyy\").alias(\"date_occured\"),\n",
        "    concat_ws(\":\",\n",
        "              lpad((col(\"TIME OCC\") / 100).cast(\"int\").cast(\"string\"), 2, \"0\"),\n",
        "              lpad((col(\"TIME OCC\") % 100).cast(\"int\").cast(\"string\"), 2, \"0\")\n",
        "    ).alias(\"time_occured\"),\n",
        "    date_format(to_timestamp(col(\"Date Rptd\"), \"MM/dd/yyyy hh:mm:ss a\"), \"dd.MM.yyyy\").alias(\"date_report\"),\n",
        "    lit('').alias(\"time_report\"),\n",
        "    lit('').alias(\"crime_category\"),\n",
        "    col(\"Crm Cd Desc\").alias(\"crime_description\"),\n",
        "    col(\"LAT\").alias(\"latitude\"),\n",
        "    col(\"LON\").alias(\"longitude\"),\n",
        "    regexp_replace(col(\"LOCATION\"), r\"\\s+\\d+$\", \"\").alias(\"address\"),\n",
        "    col(\"Premis Desc\").alias(\"location_type\"),\n",
        "    when(col(\"Status Desc\") == \"Invest Cont\", \"not finished\").otherwise(\"finished\").alias(\"investigation_status\"),\n",
        "    when((col(\"Vict Age\") >= 1) & (col(\"Vict Age\") < 19), \"<19\")\n",
        "    .when((col(\"Vict Age\") >= 19) & (col(\"Vict Age\") <= 24), \"19-24\")\n",
        "    .when((col(\"Vict Age\") >= 25) & (col(\"Vict Age\") <= 44), \"25-44\")\n",
        "    .when((col(\"Vict Age\") >= 45) & (col(\"Vict Age\") <= 64), \"45-64\")\n",
        "    .when((col(\"Vict Age\") >= 65) & (col(\"Vict Age\") <= 120), \"65+\")\n",
        "    .otherwise(\"\").alias(\"victim_age_group\"),\n",
        "    when(col(\"Vict Sex\") == \"M\", \"M\")\n",
        "    .when(col(\"Vict Sex\") == \"F\", \"F\")\n",
        "    .otherwise(\"None\").alias(\"victim_sex\"),\n",
        "    when(col(\"Vict Descent\") == \"X\", None)\n",
        "    .when(col(\"Vict Descent\").isin(\"B\"), \"BLACK\")\n",
        "    .when(col(\"Vict Descent\").isin(\"W\"), \"WHITE\")\n",
        "    .when(col(\"Vict Descent\").isin(\"H\"), \"WHITE HISPANIC\")\n",
        "    .when(col(\"Vict Descent\").isin(\"A\", \"P\", \"C\", \"D\", \"J\", \"U\", \"V\", \"K\", \"Z\"), \"ASIAN / PACIFIC ISLANDER\")\n",
        "    .when(col(\"Vict Descent\").isin(\"I\"), \"AMERICAN INDIAN/ALASKAN NATIVE\")\n",
        "    .otherwise(\"OTHER\").alias(\"victim_race\"),\n",
        "    concat_ws(\" \", col(\"City\"), col(\"AREA\")).alias(\"police_station\")\n",
        ")"
      ],
      "metadata": {
        "id": "_tjzHNtoNsHG"
      },
      "execution_count": null,
      "outputs": []
    },
    {
      "cell_type": "code",
      "source": [
        "la_normalized.show(5)\n",
        "la_df.show(5)"
      ],
      "metadata": {
        "id": "VmWqTVL226lh",
        "colab": {
          "base_uri": "https://localhost:8080/"
        },
        "outputId": "ca102854-fa68-49fd-f813-0e6786c28fea"
      },
      "execution_count": null,
      "outputs": [
        {
          "output_type": "stream",
          "name": "stdout",
          "text": [
            "+-----------+------------+------------+-----------+-----------+--------------+--------------------+--------+---------+--------------------+--------------------+--------------------+----------------+----------+-----------+--------------+\n",
            "|       city|date_occured|time_occured|date_report|time_report|crime_category|   crime_description|latitude|longitude|             address|       location_type|investigation_status|victim_age_group|victim_sex|victim_race|police_station|\n",
            "+-----------+------------+------------+-----------+-----------+--------------+--------------------+--------+---------+--------------------+--------------------+--------------------+----------------+----------+-----------+--------------+\n",
            "|Los Angeles|  01.03.2020|       21:30| 01.03.2020|           |              |    VEHICLE - STOLEN| 34.0375|-118.3506|1900 S  LONGWOOD ...|              STREET|            finished|                |         M|      OTHER| Los Angeles 7|\n",
            "|Los Angeles|  08.02.2020|       18:00| 09.02.2020|           |              |BURGLARY FROM VEH...| 34.0444|-118.2628|1000 S  FLOWER   ...|BUS STOP/LAYOVER ...|        not finished|           45-64|         M|      OTHER| Los Angeles 1|\n",
            "|Los Angeles|  04.11.2020|       17:00| 11.11.2020|           |              |       BIKE - STOLEN|  34.021|-118.3002|1400 W  37TH     ...|MULTI-UNIT DWELLI...|        not finished|           19-24|      None|       NULL| Los Angeles 3|\n",
            "|Los Angeles|  10.03.2020|       20:37| 10.05.2023|           |              |SHOPLIFTING-GRAND...| 34.1576|-118.4387|14000    RIVERSID...|      CLOTHING STORE|        not finished|           19-24|         M|      OTHER| Los Angeles 9|\n",
            "|Los Angeles|  09.09.2020|       06:30| 09.09.2020|           |              |    VEHICLE - STOLEN|  34.082| -118.213|       200 E  AVENUE|              STREET|        not finished|                |      None|      OTHER| Los Angeles 4|\n",
            "+-----------+------------+------------+-----------+-----------+--------------+--------------------+--------+---------+--------------------+--------------------+--------------------+----------------+----------+-----------+--------------+\n",
            "only showing top 5 rows\n",
            "\n",
            "+---------+--------------------+--------------------+--------+----+----------+-----------+--------+------+--------------------+--------------+--------+--------+------------+---------+--------------------+--------------+-----------+------+------------+--------+--------+--------+--------+--------------------+------------+-------+---------+-----------+\n",
            "|    DR_NO|           Date Rptd|            DATE OCC|TIME OCC|AREA| AREA NAME|Rpt Dist No|Part 1-2|Crm Cd|         Crm Cd Desc|       Mocodes|Vict Age|Vict Sex|Vict Descent|Premis Cd|         Premis Desc|Weapon Used Cd|Weapon Desc|Status| Status Desc|Crm Cd 1|Crm Cd 2|Crm Cd 3|Crm Cd 4|            LOCATION|Cross Street|    LAT|      LON|       City|\n",
            "+---------+--------------------+--------------------+--------+----+----------+-----------+--------+------+--------------------+--------------+--------+--------+------------+---------+--------------------+--------------+-----------+------+------------+--------+--------+--------+--------+--------------------+------------+-------+---------+-----------+\n",
            "|190326475|03/01/2020 12:00:...|03/01/2020 12:00:...|    2130|   7|  Wilshire|        784|       1|   510|    VEHICLE - STOLEN|          NULL|       0|       M|           O|      101|              STREET|          NULL|       NULL|    AA|Adult Arrest|     510|     998|    NULL|    NULL|1900 S  LONGWOOD ...|        NULL|34.0375|-118.3506|Los Angeles|\n",
            "|200106753|02/09/2020 12:00:...|02/08/2020 12:00:...|    1800|   1|   Central|        182|       1|   330|BURGLARY FROM VEH...|1822 1402 0344|      47|       M|           O|      128|BUS STOP/LAYOVER ...|          NULL|       NULL|    IC| Invest Cont|     330|     998|    NULL|    NULL|1000 S  FLOWER   ...|        NULL|34.0444|-118.2628|Los Angeles|\n",
            "|200320258|11/11/2020 12:00:...|11/04/2020 12:00:...|    1700|   3| Southwest|        356|       1|   480|       BIKE - STOLEN|     0344 1251|      19|       X|           X|      502|MULTI-UNIT DWELLI...|          NULL|       NULL|    IC| Invest Cont|     480|    NULL|    NULL|    NULL|1400 W  37TH     ...|        NULL| 34.021|-118.3002|Los Angeles|\n",
            "|200907217|05/10/2023 12:00:...|03/10/2020 12:00:...|    2037|   9|  Van Nuys|        964|       1|   343|SHOPLIFTING-GRAND...|     0325 1501|      19|       M|           O|      405|      CLOTHING STORE|          NULL|       NULL|    IC| Invest Cont|     343|    NULL|    NULL|    NULL|14000    RIVERSID...|        NULL|34.1576|-118.4387|Los Angeles|\n",
            "|200412582|09/09/2020 12:00:...|09/09/2020 12:00:...|     630|   4|Hollenbeck|        413|       1|   510|    VEHICLE - STOLEN|          NULL|       0|    NULL|        NULL|      101|              STREET|          NULL|       NULL|    IC| Invest Cont|     510|    NULL|    NULL|    NULL|    200 E  AVENUE 28|        NULL| 34.082| -118.213|Los Angeles|\n",
            "+---------+--------------------+--------------------+--------+----+----------+-----------+--------+------+--------------------+--------------+--------+--------+------------+---------+--------------------+--------------+-----------+------+------------+--------+--------+--------+--------+--------------------+------------+-------+---------+-----------+\n",
            "only showing top 5 rows\n",
            "\n"
          ]
        }
      ]
    },
    {
      "cell_type": "markdown",
      "source": [
        "Чистим-чистим"
      ],
      "metadata": {
        "id": "yrffbHNHaA3L"
      }
    },
    {
      "cell_type": "code",
      "source": [
        "final_df = detroit_normalized.unionByName(la_normalized)\n",
        "reserv_df= final_df.select(\"*\")\n"
      ],
      "metadata": {
        "id": "CehQsLGbZ_4z"
      },
      "execution_count": null,
      "outputs": []
    },
    {
      "cell_type": "code",
      "source": [
        "final_df=reserv_df.select(\"*\")"
      ],
      "metadata": {
        "id": "R__mJ-1KiPOU"
      },
      "execution_count": null,
      "outputs": []
    },
    {
      "cell_type": "code",
      "source": [
        "final_df.groupBy(\"city\").count().orderBy(\"count\", ascending=False).show(truncate=False)\n",
        "\n",
        "earliest_record_la = la_normalized.orderBy(col(\"date_occured\").asc()).first()\n",
        "print(\"First record in LA\\n\"+ str(earliest_record_la))\n",
        "latest_record_la = la_normalized.orderBy(col(\"date_occured\").desc()).first()\n",
        "print(\"Last record in LA\\n\"+ str(latest_record_la))\n",
        "\n",
        "earliest_record_detroit = detroit_normalized.orderBy(col(\"date_occured\").asc()).first()\n",
        "print(\"First record in Detroit\\n\"+ str(earliest_record_detroit))\n",
        "latest_record_detroit = detroit_normalized.orderBy(col(\"date_occured\").desc()).first()\n",
        "print(\"Last record in Detroit\\n\"+ str(latest_record_detroit))\n"
      ],
      "metadata": {
        "colab": {
          "base_uri": "https://localhost:8080/",
          "height": 634
        },
        "id": "2mSfc82VhlQ8",
        "outputId": "1f194f74-ef7c-428a-d960-c689e20669f2"
      },
      "execution_count": null,
      "outputs": [
        {
          "output_type": "stream",
          "name": "stdout",
          "text": [
            "+-----------+------+\n",
            "|city       |count |\n",
            "+-----------+------+\n",
            "|Los Angeles|986746|\n",
            "|Detroit    |670997|\n",
            "+-----------+------+\n",
            "\n"
          ]
        },
        {
          "output_type": "stream",
          "name": "stderr",
          "text": [
            "ERROR:root:KeyboardInterrupt while sending command.\n",
            "Traceback (most recent call last):\n",
            "  File \"/usr/local/lib/python3.10/dist-packages/py4j/java_gateway.py\", line 1038, in send_command\n",
            "    response = connection.send_command(command)\n",
            "  File \"/usr/local/lib/python3.10/dist-packages/py4j/clientserver.py\", line 511, in send_command\n",
            "    answer = smart_decode(self.stream.readline()[:-1])\n",
            "  File \"/usr/lib/python3.10/socket.py\", line 705, in readinto\n",
            "    return self._sock.recv_into(b)\n",
            "KeyboardInterrupt\n"
          ]
        },
        {
          "output_type": "error",
          "ename": "KeyboardInterrupt",
          "evalue": "",
          "traceback": [
            "\u001b[0;31m---------------------------------------------------------------------------\u001b[0m",
            "\u001b[0;31mKeyboardInterrupt\u001b[0m                         Traceback (most recent call last)",
            "\u001b[0;32m<ipython-input-13-7601a6aae463>\u001b[0m in \u001b[0;36m<cell line: 3>\u001b[0;34m()\u001b[0m\n\u001b[1;32m      1\u001b[0m \u001b[0mfinal_df\u001b[0m\u001b[0;34m.\u001b[0m\u001b[0mgroupBy\u001b[0m\u001b[0;34m(\u001b[0m\u001b[0;34m\"city\"\u001b[0m\u001b[0;34m)\u001b[0m\u001b[0;34m.\u001b[0m\u001b[0mcount\u001b[0m\u001b[0;34m(\u001b[0m\u001b[0;34m)\u001b[0m\u001b[0;34m.\u001b[0m\u001b[0morderBy\u001b[0m\u001b[0;34m(\u001b[0m\u001b[0;34m\"count\"\u001b[0m\u001b[0;34m,\u001b[0m \u001b[0mascending\u001b[0m\u001b[0;34m=\u001b[0m\u001b[0;32mFalse\u001b[0m\u001b[0;34m)\u001b[0m\u001b[0;34m.\u001b[0m\u001b[0mshow\u001b[0m\u001b[0;34m(\u001b[0m\u001b[0mtruncate\u001b[0m\u001b[0;34m=\u001b[0m\u001b[0;32mFalse\u001b[0m\u001b[0;34m)\u001b[0m\u001b[0;34m\u001b[0m\u001b[0;34m\u001b[0m\u001b[0m\n\u001b[1;32m      2\u001b[0m \u001b[0;34m\u001b[0m\u001b[0m\n\u001b[0;32m----> 3\u001b[0;31m \u001b[0mearliest_record_la\u001b[0m \u001b[0;34m=\u001b[0m \u001b[0mla_normalized\u001b[0m\u001b[0;34m.\u001b[0m\u001b[0morderBy\u001b[0m\u001b[0;34m(\u001b[0m\u001b[0mcol\u001b[0m\u001b[0;34m(\u001b[0m\u001b[0;34m\"date_occured\"\u001b[0m\u001b[0;34m)\u001b[0m\u001b[0;34m.\u001b[0m\u001b[0masc\u001b[0m\u001b[0;34m(\u001b[0m\u001b[0;34m)\u001b[0m\u001b[0;34m)\u001b[0m\u001b[0;34m.\u001b[0m\u001b[0mfirst\u001b[0m\u001b[0;34m(\u001b[0m\u001b[0;34m)\u001b[0m\u001b[0;34m\u001b[0m\u001b[0;34m\u001b[0m\u001b[0m\n\u001b[0m\u001b[1;32m      4\u001b[0m \u001b[0mprint\u001b[0m\u001b[0;34m(\u001b[0m\u001b[0;34m\"First record in LA\\n\"\u001b[0m\u001b[0;34m+\u001b[0m \u001b[0mstr\u001b[0m\u001b[0;34m(\u001b[0m\u001b[0mearliest_record_la\u001b[0m\u001b[0;34m)\u001b[0m\u001b[0;34m)\u001b[0m\u001b[0;34m\u001b[0m\u001b[0;34m\u001b[0m\u001b[0m\n\u001b[1;32m      5\u001b[0m \u001b[0mlatest_record_la\u001b[0m \u001b[0;34m=\u001b[0m \u001b[0mla_normalized\u001b[0m\u001b[0;34m.\u001b[0m\u001b[0morderBy\u001b[0m\u001b[0;34m(\u001b[0m\u001b[0mcol\u001b[0m\u001b[0;34m(\u001b[0m\u001b[0;34m\"date_occured\"\u001b[0m\u001b[0;34m)\u001b[0m\u001b[0;34m.\u001b[0m\u001b[0mdesc\u001b[0m\u001b[0;34m(\u001b[0m\u001b[0;34m)\u001b[0m\u001b[0;34m)\u001b[0m\u001b[0;34m.\u001b[0m\u001b[0mfirst\u001b[0m\u001b[0;34m(\u001b[0m\u001b[0;34m)\u001b[0m\u001b[0;34m\u001b[0m\u001b[0;34m\u001b[0m\u001b[0m\n",
            "\u001b[0;32m/usr/local/lib/python3.10/dist-packages/pyspark/sql/dataframe.py\u001b[0m in \u001b[0;36mfirst\u001b[0;34m(self)\u001b[0m\n\u001b[1;32m   2995\u001b[0m         \u001b[0mRow\u001b[0m\u001b[0;34m(\u001b[0m\u001b[0mage\u001b[0m\u001b[0;34m=\u001b[0m\u001b[0;36m2\u001b[0m\u001b[0;34m,\u001b[0m \u001b[0mname\u001b[0m\u001b[0;34m=\u001b[0m\u001b[0;34m'Alice'\u001b[0m\u001b[0;34m)\u001b[0m\u001b[0;34m\u001b[0m\u001b[0;34m\u001b[0m\u001b[0m\n\u001b[1;32m   2996\u001b[0m         \"\"\"\n\u001b[0;32m-> 2997\u001b[0;31m         \u001b[0;32mreturn\u001b[0m \u001b[0mself\u001b[0m\u001b[0;34m.\u001b[0m\u001b[0mhead\u001b[0m\u001b[0;34m(\u001b[0m\u001b[0;34m)\u001b[0m\u001b[0;34m\u001b[0m\u001b[0;34m\u001b[0m\u001b[0m\n\u001b[0m\u001b[1;32m   2998\u001b[0m \u001b[0;34m\u001b[0m\u001b[0m\n\u001b[1;32m   2999\u001b[0m     \u001b[0;34m@\u001b[0m\u001b[0moverload\u001b[0m\u001b[0;34m\u001b[0m\u001b[0;34m\u001b[0m\u001b[0m\n",
            "\u001b[0;32m/usr/local/lib/python3.10/dist-packages/pyspark/sql/dataframe.py\u001b[0m in \u001b[0;36mhead\u001b[0;34m(self, n)\u001b[0m\n\u001b[1;32m   2971\u001b[0m         \"\"\"\n\u001b[1;32m   2972\u001b[0m         \u001b[0;32mif\u001b[0m \u001b[0mn\u001b[0m \u001b[0;32mis\u001b[0m \u001b[0;32mNone\u001b[0m\u001b[0;34m:\u001b[0m\u001b[0;34m\u001b[0m\u001b[0;34m\u001b[0m\u001b[0m\n\u001b[0;32m-> 2973\u001b[0;31m             \u001b[0mrs\u001b[0m \u001b[0;34m=\u001b[0m \u001b[0mself\u001b[0m\u001b[0;34m.\u001b[0m\u001b[0mhead\u001b[0m\u001b[0;34m(\u001b[0m\u001b[0;36m1\u001b[0m\u001b[0;34m)\u001b[0m\u001b[0;34m\u001b[0m\u001b[0;34m\u001b[0m\u001b[0m\n\u001b[0m\u001b[1;32m   2974\u001b[0m             \u001b[0;32mreturn\u001b[0m \u001b[0mrs\u001b[0m\u001b[0;34m[\u001b[0m\u001b[0;36m0\u001b[0m\u001b[0;34m]\u001b[0m \u001b[0;32mif\u001b[0m \u001b[0mrs\u001b[0m \u001b[0;32melse\u001b[0m \u001b[0;32mNone\u001b[0m\u001b[0;34m\u001b[0m\u001b[0;34m\u001b[0m\u001b[0m\n\u001b[1;32m   2975\u001b[0m         \u001b[0;32mreturn\u001b[0m \u001b[0mself\u001b[0m\u001b[0;34m.\u001b[0m\u001b[0mtake\u001b[0m\u001b[0;34m(\u001b[0m\u001b[0mn\u001b[0m\u001b[0;34m)\u001b[0m\u001b[0;34m\u001b[0m\u001b[0;34m\u001b[0m\u001b[0m\n",
            "\u001b[0;32m/usr/local/lib/python3.10/dist-packages/pyspark/sql/dataframe.py\u001b[0m in \u001b[0;36mhead\u001b[0;34m(self, n)\u001b[0m\n\u001b[1;32m   2973\u001b[0m             \u001b[0mrs\u001b[0m \u001b[0;34m=\u001b[0m \u001b[0mself\u001b[0m\u001b[0;34m.\u001b[0m\u001b[0mhead\u001b[0m\u001b[0;34m(\u001b[0m\u001b[0;36m1\u001b[0m\u001b[0;34m)\u001b[0m\u001b[0;34m\u001b[0m\u001b[0;34m\u001b[0m\u001b[0m\n\u001b[1;32m   2974\u001b[0m             \u001b[0;32mreturn\u001b[0m \u001b[0mrs\u001b[0m\u001b[0;34m[\u001b[0m\u001b[0;36m0\u001b[0m\u001b[0;34m]\u001b[0m \u001b[0;32mif\u001b[0m \u001b[0mrs\u001b[0m \u001b[0;32melse\u001b[0m \u001b[0;32mNone\u001b[0m\u001b[0;34m\u001b[0m\u001b[0;34m\u001b[0m\u001b[0m\n\u001b[0;32m-> 2975\u001b[0;31m         \u001b[0;32mreturn\u001b[0m \u001b[0mself\u001b[0m\u001b[0;34m.\u001b[0m\u001b[0mtake\u001b[0m\u001b[0;34m(\u001b[0m\u001b[0mn\u001b[0m\u001b[0;34m)\u001b[0m\u001b[0;34m\u001b[0m\u001b[0;34m\u001b[0m\u001b[0m\n\u001b[0m\u001b[1;32m   2976\u001b[0m \u001b[0;34m\u001b[0m\u001b[0m\n\u001b[1;32m   2977\u001b[0m     \u001b[0;32mdef\u001b[0m \u001b[0mfirst\u001b[0m\u001b[0;34m(\u001b[0m\u001b[0mself\u001b[0m\u001b[0;34m)\u001b[0m \u001b[0;34m->\u001b[0m \u001b[0mOptional\u001b[0m\u001b[0;34m[\u001b[0m\u001b[0mRow\u001b[0m\u001b[0;34m]\u001b[0m\u001b[0;34m:\u001b[0m\u001b[0;34m\u001b[0m\u001b[0;34m\u001b[0m\u001b[0m\n",
            "\u001b[0;32m/usr/local/lib/python3.10/dist-packages/pyspark/sql/dataframe.py\u001b[0m in \u001b[0;36mtake\u001b[0;34m(self, num)\u001b[0m\n\u001b[1;32m   1405\u001b[0m         \u001b[0;34m[\u001b[0m\u001b[0mRow\u001b[0m\u001b[0;34m(\u001b[0m\u001b[0mage\u001b[0m\u001b[0;34m=\u001b[0m\u001b[0;36m14\u001b[0m\u001b[0;34m,\u001b[0m \u001b[0mname\u001b[0m\u001b[0;34m=\u001b[0m\u001b[0;34m'Tom'\u001b[0m\u001b[0;34m)\u001b[0m\u001b[0;34m,\u001b[0m \u001b[0mRow\u001b[0m\u001b[0;34m(\u001b[0m\u001b[0mage\u001b[0m\u001b[0;34m=\u001b[0m\u001b[0;36m23\u001b[0m\u001b[0;34m,\u001b[0m \u001b[0mname\u001b[0m\u001b[0;34m=\u001b[0m\u001b[0;34m'Alice'\u001b[0m\u001b[0;34m)\u001b[0m\u001b[0;34m]\u001b[0m\u001b[0;34m\u001b[0m\u001b[0;34m\u001b[0m\u001b[0m\n\u001b[1;32m   1406\u001b[0m         \"\"\"\n\u001b[0;32m-> 1407\u001b[0;31m         \u001b[0;32mreturn\u001b[0m \u001b[0mself\u001b[0m\u001b[0;34m.\u001b[0m\u001b[0mlimit\u001b[0m\u001b[0;34m(\u001b[0m\u001b[0mnum\u001b[0m\u001b[0;34m)\u001b[0m\u001b[0;34m.\u001b[0m\u001b[0mcollect\u001b[0m\u001b[0;34m(\u001b[0m\u001b[0;34m)\u001b[0m\u001b[0;34m\u001b[0m\u001b[0;34m\u001b[0m\u001b[0m\n\u001b[0m\u001b[1;32m   1408\u001b[0m \u001b[0;34m\u001b[0m\u001b[0m\n\u001b[1;32m   1409\u001b[0m     \u001b[0;32mdef\u001b[0m \u001b[0mtail\u001b[0m\u001b[0;34m(\u001b[0m\u001b[0mself\u001b[0m\u001b[0;34m,\u001b[0m \u001b[0mnum\u001b[0m\u001b[0;34m:\u001b[0m \u001b[0mint\u001b[0m\u001b[0;34m)\u001b[0m \u001b[0;34m->\u001b[0m \u001b[0mList\u001b[0m\u001b[0;34m[\u001b[0m\u001b[0mRow\u001b[0m\u001b[0;34m]\u001b[0m\u001b[0;34m:\u001b[0m\u001b[0;34m\u001b[0m\u001b[0;34m\u001b[0m\u001b[0m\n",
            "\u001b[0;32m/usr/local/lib/python3.10/dist-packages/pyspark/sql/dataframe.py\u001b[0m in \u001b[0;36mcollect\u001b[0;34m(self)\u001b[0m\n\u001b[1;32m   1261\u001b[0m         \"\"\"\n\u001b[1;32m   1262\u001b[0m         \u001b[0;32mwith\u001b[0m \u001b[0mSCCallSiteSync\u001b[0m\u001b[0;34m(\u001b[0m\u001b[0mself\u001b[0m\u001b[0;34m.\u001b[0m\u001b[0m_sc\u001b[0m\u001b[0;34m)\u001b[0m\u001b[0;34m:\u001b[0m\u001b[0;34m\u001b[0m\u001b[0;34m\u001b[0m\u001b[0m\n\u001b[0;32m-> 1263\u001b[0;31m             \u001b[0msock_info\u001b[0m \u001b[0;34m=\u001b[0m \u001b[0mself\u001b[0m\u001b[0;34m.\u001b[0m\u001b[0m_jdf\u001b[0m\u001b[0;34m.\u001b[0m\u001b[0mcollectToPython\u001b[0m\u001b[0;34m(\u001b[0m\u001b[0;34m)\u001b[0m\u001b[0;34m\u001b[0m\u001b[0;34m\u001b[0m\u001b[0m\n\u001b[0m\u001b[1;32m   1264\u001b[0m         \u001b[0;32mreturn\u001b[0m \u001b[0mlist\u001b[0m\u001b[0;34m(\u001b[0m\u001b[0m_load_from_socket\u001b[0m\u001b[0;34m(\u001b[0m\u001b[0msock_info\u001b[0m\u001b[0;34m,\u001b[0m \u001b[0mBatchedSerializer\u001b[0m\u001b[0;34m(\u001b[0m\u001b[0mCPickleSerializer\u001b[0m\u001b[0;34m(\u001b[0m\u001b[0;34m)\u001b[0m\u001b[0;34m)\u001b[0m\u001b[0;34m)\u001b[0m\u001b[0;34m)\u001b[0m\u001b[0;34m\u001b[0m\u001b[0;34m\u001b[0m\u001b[0m\n\u001b[1;32m   1265\u001b[0m \u001b[0;34m\u001b[0m\u001b[0m\n",
            "\u001b[0;32m/usr/local/lib/python3.10/dist-packages/py4j/java_gateway.py\u001b[0m in \u001b[0;36m__call__\u001b[0;34m(self, *args)\u001b[0m\n\u001b[1;32m   1319\u001b[0m             \u001b[0mproto\u001b[0m\u001b[0;34m.\u001b[0m\u001b[0mEND_COMMAND_PART\u001b[0m\u001b[0;34m\u001b[0m\u001b[0;34m\u001b[0m\u001b[0m\n\u001b[1;32m   1320\u001b[0m \u001b[0;34m\u001b[0m\u001b[0m\n\u001b[0;32m-> 1321\u001b[0;31m         \u001b[0manswer\u001b[0m \u001b[0;34m=\u001b[0m \u001b[0mself\u001b[0m\u001b[0;34m.\u001b[0m\u001b[0mgateway_client\u001b[0m\u001b[0;34m.\u001b[0m\u001b[0msend_command\u001b[0m\u001b[0;34m(\u001b[0m\u001b[0mcommand\u001b[0m\u001b[0;34m)\u001b[0m\u001b[0;34m\u001b[0m\u001b[0;34m\u001b[0m\u001b[0m\n\u001b[0m\u001b[1;32m   1322\u001b[0m         return_value = get_return_value(\n\u001b[1;32m   1323\u001b[0m             answer, self.gateway_client, self.target_id, self.name)\n",
            "\u001b[0;32m/usr/local/lib/python3.10/dist-packages/py4j/java_gateway.py\u001b[0m in \u001b[0;36msend_command\u001b[0;34m(self, command, retry, binary)\u001b[0m\n\u001b[1;32m   1036\u001b[0m         \u001b[0mconnection\u001b[0m \u001b[0;34m=\u001b[0m \u001b[0mself\u001b[0m\u001b[0;34m.\u001b[0m\u001b[0m_get_connection\u001b[0m\u001b[0;34m(\u001b[0m\u001b[0;34m)\u001b[0m\u001b[0;34m\u001b[0m\u001b[0;34m\u001b[0m\u001b[0m\n\u001b[1;32m   1037\u001b[0m         \u001b[0;32mtry\u001b[0m\u001b[0;34m:\u001b[0m\u001b[0;34m\u001b[0m\u001b[0;34m\u001b[0m\u001b[0m\n\u001b[0;32m-> 1038\u001b[0;31m             \u001b[0mresponse\u001b[0m \u001b[0;34m=\u001b[0m \u001b[0mconnection\u001b[0m\u001b[0;34m.\u001b[0m\u001b[0msend_command\u001b[0m\u001b[0;34m(\u001b[0m\u001b[0mcommand\u001b[0m\u001b[0;34m)\u001b[0m\u001b[0;34m\u001b[0m\u001b[0;34m\u001b[0m\u001b[0m\n\u001b[0m\u001b[1;32m   1039\u001b[0m             \u001b[0;32mif\u001b[0m \u001b[0mbinary\u001b[0m\u001b[0;34m:\u001b[0m\u001b[0;34m\u001b[0m\u001b[0;34m\u001b[0m\u001b[0m\n\u001b[1;32m   1040\u001b[0m                 \u001b[0;32mreturn\u001b[0m \u001b[0mresponse\u001b[0m\u001b[0;34m,\u001b[0m \u001b[0mself\u001b[0m\u001b[0;34m.\u001b[0m\u001b[0m_create_connection_guard\u001b[0m\u001b[0;34m(\u001b[0m\u001b[0mconnection\u001b[0m\u001b[0;34m)\u001b[0m\u001b[0;34m\u001b[0m\u001b[0;34m\u001b[0m\u001b[0m\n",
            "\u001b[0;32m/usr/local/lib/python3.10/dist-packages/py4j/clientserver.py\u001b[0m in \u001b[0;36msend_command\u001b[0;34m(self, command)\u001b[0m\n\u001b[1;32m    509\u001b[0m         \u001b[0;32mtry\u001b[0m\u001b[0;34m:\u001b[0m\u001b[0;34m\u001b[0m\u001b[0;34m\u001b[0m\u001b[0m\n\u001b[1;32m    510\u001b[0m             \u001b[0;32mwhile\u001b[0m \u001b[0;32mTrue\u001b[0m\u001b[0;34m:\u001b[0m\u001b[0;34m\u001b[0m\u001b[0;34m\u001b[0m\u001b[0m\n\u001b[0;32m--> 511\u001b[0;31m                 \u001b[0manswer\u001b[0m \u001b[0;34m=\u001b[0m \u001b[0msmart_decode\u001b[0m\u001b[0;34m(\u001b[0m\u001b[0mself\u001b[0m\u001b[0;34m.\u001b[0m\u001b[0mstream\u001b[0m\u001b[0;34m.\u001b[0m\u001b[0mreadline\u001b[0m\u001b[0;34m(\u001b[0m\u001b[0;34m)\u001b[0m\u001b[0;34m[\u001b[0m\u001b[0;34m:\u001b[0m\u001b[0;34m-\u001b[0m\u001b[0;36m1\u001b[0m\u001b[0;34m]\u001b[0m\u001b[0;34m)\u001b[0m\u001b[0;34m\u001b[0m\u001b[0;34m\u001b[0m\u001b[0m\n\u001b[0m\u001b[1;32m    512\u001b[0m                 \u001b[0mlogger\u001b[0m\u001b[0;34m.\u001b[0m\u001b[0mdebug\u001b[0m\u001b[0;34m(\u001b[0m\u001b[0;34m\"Answer received: {0}\"\u001b[0m\u001b[0;34m.\u001b[0m\u001b[0mformat\u001b[0m\u001b[0;34m(\u001b[0m\u001b[0manswer\u001b[0m\u001b[0;34m)\u001b[0m\u001b[0;34m)\u001b[0m\u001b[0;34m\u001b[0m\u001b[0;34m\u001b[0m\u001b[0m\n\u001b[1;32m    513\u001b[0m                 \u001b[0;31m# Happens when a the other end is dead. There might be an empty\u001b[0m\u001b[0;34m\u001b[0m\u001b[0;34m\u001b[0m\u001b[0m\n",
            "\u001b[0;32m/usr/lib/python3.10/socket.py\u001b[0m in \u001b[0;36mreadinto\u001b[0;34m(self, b)\u001b[0m\n\u001b[1;32m    703\u001b[0m         \u001b[0;32mwhile\u001b[0m \u001b[0;32mTrue\u001b[0m\u001b[0;34m:\u001b[0m\u001b[0;34m\u001b[0m\u001b[0;34m\u001b[0m\u001b[0m\n\u001b[1;32m    704\u001b[0m             \u001b[0;32mtry\u001b[0m\u001b[0;34m:\u001b[0m\u001b[0;34m\u001b[0m\u001b[0;34m\u001b[0m\u001b[0m\n\u001b[0;32m--> 705\u001b[0;31m                 \u001b[0;32mreturn\u001b[0m \u001b[0mself\u001b[0m\u001b[0;34m.\u001b[0m\u001b[0m_sock\u001b[0m\u001b[0;34m.\u001b[0m\u001b[0mrecv_into\u001b[0m\u001b[0;34m(\u001b[0m\u001b[0mb\u001b[0m\u001b[0;34m)\u001b[0m\u001b[0;34m\u001b[0m\u001b[0;34m\u001b[0m\u001b[0m\n\u001b[0m\u001b[1;32m    706\u001b[0m             \u001b[0;32mexcept\u001b[0m \u001b[0mtimeout\u001b[0m\u001b[0;34m:\u001b[0m\u001b[0;34m\u001b[0m\u001b[0;34m\u001b[0m\u001b[0m\n\u001b[1;32m    707\u001b[0m                 \u001b[0mself\u001b[0m\u001b[0;34m.\u001b[0m\u001b[0m_timeout_occurred\u001b[0m \u001b[0;34m=\u001b[0m \u001b[0;32mTrue\u001b[0m\u001b[0;34m\u001b[0m\u001b[0;34m\u001b[0m\u001b[0m\n",
            "\u001b[0;31mKeyboardInterrupt\u001b[0m: "
          ]
        }
      ]
    },
    {
      "cell_type": "markdown",
      "source": [
        "Рядків \\\n",
        "Los Angeles - 986873 \\\n",
        "Detroit    - 670997 \\"
      ],
      "metadata": {
        "id": "gPB_M_Z-jP1j"
      }
    },
    {
      "cell_type": "code",
      "source": [
        "final_df=final_df.fillna('')"
      ],
      "metadata": {
        "id": "lqR2_5EfsqZC"
      },
      "execution_count": null,
      "outputs": []
    },
    {
      "cell_type": "markdown",
      "source": [
        "Збереження"
      ],
      "metadata": {
        "id": "GBCAaIRUI6Qy"
      }
    },
    {
      "cell_type": "code",
      "source": [
        "output_path = \"/content/drive/MyDrive/курс 4.1/Big data/Project/data/combined_crime_data.csv\"\n",
        "final_df.write.csv(output_path, header=True, mode=\"overwrite\")\n"
      ],
      "metadata": {
        "id": "s7OhHneNNuMe",
        "colab": {
          "base_uri": "https://localhost:8080/",
          "height": 158
        },
        "outputId": "face341c-f040-4fd4-a89c-c15aefa35bc7"
      },
      "execution_count": null,
      "outputs": [
        {
          "output_type": "error",
          "ename": "NameError",
          "evalue": "name 'final_df' is not defined",
          "traceback": [
            "\u001b[0;31m---------------------------------------------------------------------------\u001b[0m",
            "\u001b[0;31mNameError\u001b[0m                                 Traceback (most recent call last)",
            "\u001b[0;32m<ipython-input-3-1d7c34de5ccc>\u001b[0m in \u001b[0;36m<cell line: 2>\u001b[0;34m()\u001b[0m\n\u001b[1;32m      1\u001b[0m \u001b[0moutput_path\u001b[0m \u001b[0;34m=\u001b[0m \u001b[0;34m\"/content/drive/MyDrive/курс 4.1/Big data/Project/data/combined_crime_data.csv\"\u001b[0m\u001b[0;34m\u001b[0m\u001b[0;34m\u001b[0m\u001b[0m\n\u001b[0;32m----> 2\u001b[0;31m \u001b[0mfinal_df\u001b[0m\u001b[0;34m.\u001b[0m\u001b[0mwrite\u001b[0m\u001b[0;34m.\u001b[0m\u001b[0mcsv\u001b[0m\u001b[0;34m(\u001b[0m\u001b[0moutput_path\u001b[0m\u001b[0;34m,\u001b[0m \u001b[0mheader\u001b[0m\u001b[0;34m=\u001b[0m\u001b[0;32mTrue\u001b[0m\u001b[0;34m,\u001b[0m \u001b[0mmode\u001b[0m\u001b[0;34m=\u001b[0m\u001b[0;34m\"overwrite\"\u001b[0m\u001b[0;34m)\u001b[0m\u001b[0;34m\u001b[0m\u001b[0;34m\u001b[0m\u001b[0m\n\u001b[0m",
            "\u001b[0;31mNameError\u001b[0m: name 'final_df' is not defined"
          ]
        }
      ]
    },
    {
      "cell_type": "markdown",
      "source": [
        "Робота з об'єднаним датасетом:\n"
      ],
      "metadata": {
        "id": "Oe4z85xyYwBR"
      }
    },
    {
      "cell_type": "code",
      "source": [
        "file_path = '/content/drive/MyDrive/курс 4.1/Big data/Project/data/combined_crime_incidents_data'\n",
        "main_df = spark.read.parquet(file_path)\n",
        "reserv_df= main_df.select(\"*\")\n",
        "\n",
        "main_df.groupBy(\"city\").count().orderBy(\"count\", ascending=False).show(truncate=False)"
      ],
      "metadata": {
        "colab": {
          "base_uri": "https://localhost:8080/"
        },
        "id": "gDNRIp8AY87f",
        "outputId": "26f15f0e-baa1-4431-9f44-b75a397c8c15"
      },
      "execution_count": null,
      "outputs": [
        {
          "output_type": "stream",
          "name": "stdout",
          "text": [
            "+-------------+-------+\n",
            "|city         |count  |\n",
            "+-------------+-------+\n",
            "|New York     |2368970|\n",
            "|Los Angeles  |986746 |\n",
            "|San Francisco|612061 |\n",
            "|Detroit      |410807 |\n",
            "+-------------+-------+\n",
            "\n"
          ]
        }
      ]
    },
    {
      "cell_type": "code",
      "source": [
        "main_df=reserv_df.select(\"*\")\n",
        "main_df.groupBy(\"city\").count().orderBy(\"count\", ascending=False).show(truncate=False)"
      ],
      "metadata": {
        "id": "48kezf9vjIJ2",
        "colab": {
          "base_uri": "https://localhost:8080/"
        },
        "outputId": "41ecf972-b2e2-4894-fa22-81b07fddafaa"
      },
      "execution_count": null,
      "outputs": [
        {
          "output_type": "stream",
          "name": "stdout",
          "text": [
            "+-------------+-------+\n",
            "|city         |count  |\n",
            "+-------------+-------+\n",
            "|New York     |2368970|\n",
            "|Los Angeles  |986746 |\n",
            "|San Francisco|612061 |\n",
            "|Detroit      |410807 |\n",
            "+-------------+-------+\n",
            "\n"
          ]
        }
      ]
    },
    {
      "cell_type": "code",
      "source": [
        "main_df = main_df.withColumn('crime_category', upper(main_df['crime_category']))\n",
        "main_df = main_df.withColumn('crime_description', upper(main_df['crime_description']))"
      ],
      "metadata": {
        "id": "xh_I1XhqhLFu"
      },
      "execution_count": null,
      "outputs": []
    },
    {
      "cell_type": "code",
      "source": [
        "#Опрацювання crime_category\n",
        "main_df = main_df.withColumn('crime_category', trim(main_df['crime_category']))\n",
        "main_df = main_df.withColumn('crime_category',\n",
        "    when(col('crime_category').like(\"LARCENY%\"), \"LARCENY/THEFT\")\n",
        "    .when(col('crime_category').like(\"MOTOR VEHICLE THEFT%\"), \"VEHICLE THEFT\")\n",
        "    .when(col('crime_category').like(\"STOLEN VEHICLE%\"), \"VEHICLE THEFT\")\n",
        "    .when(col('crime_category').like(\"AGGRAVATED ASSAULT%\"), \"ASSAULT\")\n",
        "    .when(col('crime_category').like(\"SEX OFFENSE%\"), \"SEX OFFENSES\")\n",
        "    .when(col('crime_category').like(\"SEX OFFENSES%\"), \"SEX OFFENSES\")\n",
        "    .when(col('crime_category').like(\"SEXUAL ASSAULT%\"), \"SEX OFFENSES\")\n",
        "    .when(col('crime_category').like(\"WEAPONS OFFENSES%\"), \"WEAPONS OFFENSE\")\n",
        "    .when(col('crime_category').like(\"WEAPONS OFFENSE%\"), \"WEAPONS OFFENSE\")\n",
        "    .when(col('crime_category').like(\"WEAPONS OFFENSES%\"), \"WEAPONS OFFENSE\")\n",
        "    .when(col('crime_category').like(\"WEAPONS OFFENCE%\"), \"WEAPONS OFFENSE\")\n",
        "    .when(col('crime_category').like(\"MISCELLANEOUS INVESTIGATION%\"), \"MISCELLANEOUS\")\n",
        "    .when(col('crime_category').like(\"SUSPICIOUS OCC%\"), \"SUSPICIOUS\")\n",
        "    .when(col('crime_category').like(\"TRAFFIC COLLISION%\"), \"TRAFFIC VIOLATION\")\n",
        "    .when(col('crime_category').like(\"TRAFFIC VIOLATION ARREST%\"), \"TRAFFIC VIOLATION\")\n",
        "    .when(col('crime_category').like(\"VEHICLE IMPOUNDED%\"), \"OTHER\")\n",
        "    .when(col('crime_category').like(\"COURTESY REPORT%\"), \"OTHER\")\n",
        "    .when(col('crime_category').like(\"CASE CLOSURE%\"), \"OTHER\")\n",
        "    .when(col('crime_category').like(\"OBSTRUCTING THE POLICE%\"), \"OBSTRUCTION\")\n",
        "    .when(col('crime_category').like(\"OBSTRUCTING JUDICIARY%\"), \"OBSTRUCTION\")\n",
        "    .when(col('crime_category').like(\"VEHICLE MISPLACED%\"), \"OTHER\")\n",
        "    .when(col('crime_category').like(\"NULL%\"), \"\")\n",
        "    .when(col('crime_category').like(\"OTHER OFFENSES%\"), \"OTHER\")\n",
        "    .when(col('crime_category').like(\"MISCELLANEOUS%\"), \"MISCELLANEOUS\")\n",
        "    .when(col('crime_category').like(\"OTHER MISCELLANEOUS%\"), \"MISCELLANEOUS\")\n",
        "    .when(col('crime_category').like(\"LIQUOR%\"), \"LIQUOR\")\n",
        "    .when(col('crime_category').like(\"LIQUOR LAWS%\"), \"LIQUOR\")\n",
        "    .when(col('crime_category').like(\"FORGERY AND COUNTERFEITING%\"), \"FORGERY AND COUNTERFEITING\")\n",
        "    .when(col('crime_category').like(\"FORGERY%\"), \"FORGERY AND COUNTERFEITING\")\n",
        "    .when(col('crime_category').like(\"DRUG OFFENSE%\"), \"DRUG OFFENSE\")\n",
        "    .when(col('crime_category').like(\"DRUG VIOLATION%\"), \"DRUG OFFENSE\")\n",
        "    .when(col('crime_category').like(\"DANGEROUS DRUGS%\"), \"DRUG OFFENSE\")\n",
        "    .when(col('crime_category').like(\"NON-CRIMINAL%\"), \"NON-CRIMINAL\")\n",
        "    .when(col('crime_category').like(\"CIVIL SIDEWALKS%\"), \"NON-CRIMINAL\")\n",
        "    .when(col('crime_category').like(\"OUIL%\"), \"DRUNK DRIVING\")\n",
        "    .when(col('crime_category').like(\"HUMAN TRAFFICKING%\"), \"HUMAN TRAFFICKING\")\n",
        "    .when(col('crime_category').like(\"HUMAN TRAFFICKING, COMMERCIAL SEX ACTS%\"), \"HUMAN TRAFFICKING\")\n",
        "    .when(col('crime_category').like(\"HUMAN TRAFFICKING (B), INVOLUNTARY SERVITUDE%\"), \"HUMAN TRAFFICKING\")\n",
        "    .when(col('crime_category').like(\"HUMAN TRAFFICKING (A), COMMERCIAL SEX ACTS%\"), \"HUMAN TRAFFICKING\")\n",
        "    .when(col('crime_category').like(\"HOMICIDE%\"), \"HOMICIDE\")\n",
        "    .when(col('crime_category').like(\"JUSTIFIABLE HOMICIDE%\"), \"HOMICIDE\")\n",
        "    .otherwise(col('crime_category'))\n",
        ")\n",
        "main_df = main_df.na.fill({\"crime_category\": \"\"})"
      ],
      "metadata": {
        "id": "v2iNZdoBicsV"
      },
      "execution_count": null,
      "outputs": []
    },
    {
      "cell_type": "code",
      "source": [
        "#Перевірки\n",
        "# main_df.groupBy(\"crime_category\").count().orderBy(\"crime_category\", ascending=False).show(400, truncate=False)\n",
        "# main_df.groupBy(\"crime_category\").count().orderBy(\"count\", ascending=False).show(400, truncate=False)\n",
        "# main_df.groupBy(\"crime_description\").count().orderBy(\"crime_description\", ascending=False).show(4000, truncate=False)\n",
        "# main_df.groupBy(\"crime_description\").count().orderBy(\"count\", ascending=False).show(400, truncate=False)"
      ],
      "metadata": {
        "id": "o_WP6dcYbeiX"
      },
      "execution_count": null,
      "outputs": []
    },
    {
      "cell_type": "code",
      "source": [
        "main_df.groupBy(\"city\").count().orderBy(\"count\", ascending=False).show(truncate=False)"
      ],
      "metadata": {
        "colab": {
          "base_uri": "https://localhost:8080/"
        },
        "id": "aSVaZM6jJBIy",
        "outputId": "8ce50550-cf98-4646-dd3c-aa3ee21d6c93"
      },
      "execution_count": null,
      "outputs": [
        {
          "output_type": "stream",
          "name": "stdout",
          "text": [
            "+-------------+-------+\n",
            "|city         |count  |\n",
            "+-------------+-------+\n",
            "|New York     |2368970|\n",
            "|Los Angeles  |986746 |\n",
            "|San Francisco|612061 |\n",
            "|Detroit      |410807 |\n",
            "+-------------+-------+\n",
            "\n"
          ]
        }
      ]
    },
    {
      "cell_type": "code",
      "source": [
        "output_path = \"/content/drive/MyDrive/курс 4.1/Big data/Project/data/4_usa_city_crime_data\"\n",
        "main_df.write.csv(output_path, header=True, mode=\"overwrite\")"
      ],
      "metadata": {
        "id": "ftYKrtruDyyw"
      },
      "execution_count": null,
      "outputs": []
    }
  ]
}